{
  "nbformat": 4,
  "nbformat_minor": 0,
  "metadata": {
    "colab": {
      "name": "big-query",
      "provenance": [],
      "authorship_tag": "ABX9TyMBCFdW4ASwiWHQLeVNmlEo",
      "include_colab_link": true
    },
    "kernelspec": {
      "name": "python3",
      "display_name": "Python 3"
    },
    "language_info": {
      "name": "python"
    }
  },
  "cells": [
    {
      "cell_type": "markdown",
      "metadata": {
        "id": "view-in-github",
        "colab_type": "text"
      },
      "source": [
        "<a href=\"https://colab.research.google.com/github/filipecarbonera/csv_to_bigquery/blob/main/big_query.ipynb\" target=\"_parent\"><img src=\"https://colab.research.google.com/assets/colab-badge.svg\" alt=\"Open In Colab\"/></a>"
      ]
    },
    {
      "cell_type": "markdown",
      "source": [
        "### **Código para importar arquivos CSV para o BigQuery.**\n",
        "\n",
        "- Incluir o caminho do arquivo de autenticação na variável **auth_file**.\n",
        "\n",
        "- Incluir o Id da tabela do BigQuery a ser populada na variável **table_id**.\n",
        "\n",
        "- Incluir o caminho do arquivo a ser carregado na variável **file_path**."
      ],
      "metadata": {
        "id": "QHMsqVEl8Xbt"
      }
    },
    {
      "cell_type": "code",
      "source": [
        "from google.cloud import bigquery\n",
        "import os\n",
        "\n",
        "auth_file = ''\n",
        "os.environ[\"GOOGLE_APPLICATION_CREDENTIALS\"]= auth_file\n",
        "\n",
        "client = bigquery.Client()\n",
        "\n",
        "table_id = ''\n",
        "file_path = ''\n",
        "\n",
        "job_config = bigquery.LoadJobConfig(\n",
        "    source_format=bigquery.SourceFormat.CSV, skip_leading_rows = 1, autodetect=True,\n",
        "    write_disposition = bigquery.WriteDisposition.WRITE_TRUNCATE)\n",
        "\n",
        "with open (file_path, \"rb\") as source_file:\n",
        "  job = client.load_table_from_file(source_file, table_id, job_config=job_config)"
      ],
      "metadata": {
        "id": "yVddOMBPmkWb"
      },
      "execution_count": 20,
      "outputs": []
    }
  ]
}